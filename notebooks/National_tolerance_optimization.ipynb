{
 "cells": [
  {
   "cell_type": "code",
   "execution_count": 67,
   "metadata": {
    "collapsed": true
   },
   "outputs": [],
   "source": [
    "# 1. Import dependencies \n",
    "import pandas as pd\n",
    "import numpy as np\n",
    "import matplotlib.pyplot as plt\n",
    "%matplotlib inline"
   ]
  },
  {
   "cell_type": "code",
   "execution_count": 2,
   "metadata": {
    "collapsed": true
   },
   "outputs": [],
   "source": [
    "## the pollutant categories is much fewer than the original (n=15) because in the last step, I only include pollutants which has larger than 30 sample sizes. \n",
    "national_pollutants = pd.read_csv(\"pollutant_export_raw.csv\") "
   ]
  },
  {
   "cell_type": "code",
   "execution_count": 4,
   "metadata": {},
   "outputs": [
    {
     "data": {
      "text/html": [
       "<div>\n",
       "<style scoped>\n",
       "    .dataframe tbody tr th:only-of-type {\n",
       "        vertical-align: middle;\n",
       "    }\n",
       "\n",
       "    .dataframe tbody tr th {\n",
       "        vertical-align: top;\n",
       "    }\n",
       "\n",
       "    .dataframe thead th {\n",
       "        text-align: right;\n",
       "    }\n",
       "</style>\n",
       "<table border=\"1\" class=\"dataframe\">\n",
       "  <thead>\n",
       "    <tr style=\"text-align: right;\">\n",
       "      <th></th>\n",
       "      <th>NAME10</th>\n",
       "      <th>Phosphorous Total as P (mg/L)</th>\n",
       "      <th>Zinc Total (ug/L)</th>\n",
       "      <th>Lead Total After 1984 (ug/L)</th>\n",
       "      <th>TSS (mg/L)</th>\n",
       "      <th>Copper Total (ug/L)</th>\n",
       "      <th>Nitrogen Kjeldahl Total (mg/L)</th>\n",
       "      <th>BOD5 as O2 (mg/L)</th>\n",
       "      <th>TDS_mg/L</th>\n",
       "      <th>Cadmium Total (ug/L)</th>\n",
       "      <th>pH</th>\n",
       "      <th>N02+NO3 (mg/L as N)</th>\n",
       "      <th>Nickel Total (ug/L)</th>\n",
       "      <th>COD as O2 (mg/L)</th>\n",
       "      <th>Chromium Total (ug/L)</th>\n",
       "      <th>Fecal Coliform (colonies/100 mL)</th>\n",
       "    </tr>\n",
       "  </thead>\n",
       "  <tbody>\n",
       "    <tr>\n",
       "      <th>0</th>\n",
       "      <td>Aberdeen--Bel Air South--Bel Air North, MD</td>\n",
       "      <td>60</td>\n",
       "      <td>67</td>\n",
       "      <td>67</td>\n",
       "      <td>60</td>\n",
       "      <td>67</td>\n",
       "      <td>60</td>\n",
       "      <td>60</td>\n",
       "      <td>0</td>\n",
       "      <td>67</td>\n",
       "      <td>55</td>\n",
       "      <td>60</td>\n",
       "      <td>9</td>\n",
       "      <td>0</td>\n",
       "      <td>9</td>\n",
       "      <td>37</td>\n",
       "    </tr>\n",
       "    <tr>\n",
       "      <th>1</th>\n",
       "      <td>Atlanta, GA</td>\n",
       "      <td>210</td>\n",
       "      <td>206</td>\n",
       "      <td>201</td>\n",
       "      <td>193</td>\n",
       "      <td>207</td>\n",
       "      <td>205</td>\n",
       "      <td>192</td>\n",
       "      <td>171</td>\n",
       "      <td>175</td>\n",
       "      <td>142</td>\n",
       "      <td>200</td>\n",
       "      <td>0</td>\n",
       "      <td>205</td>\n",
       "      <td>7</td>\n",
       "      <td>149</td>\n",
       "    </tr>\n",
       "    <tr>\n",
       "      <th>2</th>\n",
       "      <td>Baltimore, MD</td>\n",
       "      <td>406</td>\n",
       "      <td>405</td>\n",
       "      <td>399</td>\n",
       "      <td>403</td>\n",
       "      <td>402</td>\n",
       "      <td>405</td>\n",
       "      <td>381</td>\n",
       "      <td>1</td>\n",
       "      <td>391</td>\n",
       "      <td>150</td>\n",
       "      <td>406</td>\n",
       "      <td>49</td>\n",
       "      <td>0</td>\n",
       "      <td>60</td>\n",
       "      <td>235</td>\n",
       "    </tr>\n",
       "    <tr>\n",
       "      <th>3</th>\n",
       "      <td>Birmingham, AL</td>\n",
       "      <td>73</td>\n",
       "      <td>139</td>\n",
       "      <td>139</td>\n",
       "      <td>139</td>\n",
       "      <td>139</td>\n",
       "      <td>138</td>\n",
       "      <td>136</td>\n",
       "      <td>139</td>\n",
       "      <td>0</td>\n",
       "      <td>137</td>\n",
       "      <td>0</td>\n",
       "      <td>1</td>\n",
       "      <td>42</td>\n",
       "      <td>1</td>\n",
       "      <td>1</td>\n",
       "    </tr>\n",
       "    <tr>\n",
       "      <th>4</th>\n",
       "      <td>Boise City, ID</td>\n",
       "      <td>23</td>\n",
       "      <td>22</td>\n",
       "      <td>23</td>\n",
       "      <td>24</td>\n",
       "      <td>23</td>\n",
       "      <td>21</td>\n",
       "      <td>21</td>\n",
       "      <td>21</td>\n",
       "      <td>23</td>\n",
       "      <td>17</td>\n",
       "      <td>4</td>\n",
       "      <td>23</td>\n",
       "      <td>24</td>\n",
       "      <td>7</td>\n",
       "      <td>14</td>\n",
       "    </tr>\n",
       "  </tbody>\n",
       "</table>\n",
       "</div>"
      ],
      "text/plain": [
       "                                       NAME10  Phosphorous Total as P (mg/L)  \\\n",
       "0  Aberdeen--Bel Air South--Bel Air North, MD                             60   \n",
       "1                                 Atlanta, GA                            210   \n",
       "2                               Baltimore, MD                            406   \n",
       "3                              Birmingham, AL                             73   \n",
       "4                              Boise City, ID                             23   \n",
       "\n",
       "   Zinc Total (ug/L)  Lead Total After 1984 (ug/L)  TSS (mg/L)  \\\n",
       "0                 67                            67          60   \n",
       "1                206                           201         193   \n",
       "2                405                           399         403   \n",
       "3                139                           139         139   \n",
       "4                 22                            23          24   \n",
       "\n",
       "   Copper Total (ug/L)  Nitrogen Kjeldahl Total (mg/L)  BOD5 as O2 (mg/L)  \\\n",
       "0                   67                              60                 60   \n",
       "1                  207                             205                192   \n",
       "2                  402                             405                381   \n",
       "3                  139                             138                136   \n",
       "4                   23                              21                 21   \n",
       "\n",
       "   TDS_mg/L  Cadmium Total (ug/L)   pH  N02+NO3 (mg/L as N)  \\\n",
       "0         0                    67   55                   60   \n",
       "1       171                   175  142                  200   \n",
       "2         1                   391  150                  406   \n",
       "3       139                     0  137                    0   \n",
       "4        21                    23   17                    4   \n",
       "\n",
       "   Nickel Total (ug/L)  COD as O2 (mg/L)  Chromium Total (ug/L)  \\\n",
       "0                    9                 0                      9   \n",
       "1                    0               205                      7   \n",
       "2                   49                 0                     60   \n",
       "3                    1                42                      1   \n",
       "4                   23                24                      7   \n",
       "\n",
       "   Fecal Coliform (colonies/100 mL)  \n",
       "0                                37  \n",
       "1                               149  \n",
       "2                               235  \n",
       "3                                 1  \n",
       "4                                14  "
      ]
     },
     "execution_count": 4,
     "metadata": {},
     "output_type": "execute_result"
    }
   ],
   "source": [
    "national_pollutants.head()"
   ]
  },
  {
   "cell_type": "code",
   "execution_count": 8,
   "metadata": {},
   "outputs": [
    {
     "data": {
      "text/plain": [
       "['Phosphorous Total as P (mg/L)',\n",
       " 'Zinc Total (ug/L)',\n",
       " 'Lead Total After 1984 (ug/L)',\n",
       " 'TSS (mg/L)',\n",
       " 'Copper Total (ug/L)',\n",
       " 'Nitrogen Kjeldahl Total (mg/L)',\n",
       " 'BOD5 as O2 (mg/L)',\n",
       " 'TDS_mg/L',\n",
       " 'Cadmium Total (ug/L)',\n",
       " 'pH',\n",
       " 'N02+NO3 (mg/L as N)',\n",
       " 'Nickel Total (ug/L)',\n",
       " 'COD as O2 (mg/L)',\n",
       " 'Chromium Total (ug/L)',\n",
       " 'Fecal Coliform (colonies/100 mL)']"
      ]
     },
     "execution_count": 8,
     "metadata": {},
     "output_type": "execute_result"
    }
   ],
   "source": [
    "pollutants=list(national_pollutants)[1:]\n",
    "pollutants"
   ]
  },
  {
   "cell_type": "code",
   "execution_count": 14,
   "metadata": {},
   "outputs": [
    {
     "data": {
      "text/plain": [
       "Phosphorous Total as P (mg/L)       46\n",
       "Zinc Total (ug/L)                   45\n",
       "Lead Total After 1984 (ug/L)        45\n",
       "TSS (mg/L)                          44\n",
       "Copper Total (ug/L)                 44\n",
       "Nitrogen Kjeldahl Total (mg/L)      41\n",
       "BOD5 as O2 (mg/L)                   37\n",
       "TDS_mg/L                            37\n",
       "Cadmium Total (ug/L)                36\n",
       "pH                                  34\n",
       "N02+NO3 (mg/L as N)                 33\n",
       "Nickel Total (ug/L)                 31\n",
       "COD as O2 (mg/L)                    31\n",
       "Chromium Total (ug/L)               31\n",
       "Fecal Coliform (colonies/100 mL)    30\n",
       "dtype: int64"
      ]
     },
     "execution_count": 14,
     "metadata": {},
     "output_type": "execute_result"
    }
   ],
   "source": [
    "national_pollutants_n=national_pollutants[pollutants].astype(bool).sum(axis=0)\n",
    "national_pollutants_n"
   ]
  },
  {
   "cell_type": "code",
   "execution_count": 28,
   "metadata": {},
   "outputs": [
    {
     "data": {
      "text/plain": [
       "Index(['Phosphorous Total as P (mg/L)', 'Zinc Total (ug/L)',\n",
       "       'Lead Total After 1984 (ug/L)', 'TSS (mg/L)', 'Copper Total (ug/L)',\n",
       "       'Nitrogen Kjeldahl Total (mg/L)', 'BOD5 as O2 (mg/L)', 'TDS_mg/L',\n",
       "       'Cadmium Total (ug/L)', 'pH', 'N02+NO3 (mg/L as N)',\n",
       "       'Nickel Total (ug/L)', 'COD as O2 (mg/L)', 'Chromium Total (ug/L)',\n",
       "       'Fecal Coliform (colonies/100 mL)'],\n",
       "      dtype='object')"
      ]
     },
     "execution_count": 28,
     "metadata": {},
     "output_type": "execute_result"
    }
   ],
   "source": [
    "pollutants_sort=national_pollutants_n.to_frame().index\n",
    "pollutants_sort"
   ]
  },
  {
   "cell_type": "code",
   "execution_count": 64,
   "metadata": {},
   "outputs": [],
   "source": [
    "## function to extract new data with alll the pollutants of interest\n",
    "\n",
    "def getNcity(Npollutants):\n",
    "    pollutants_of_interest=list(pollutants_sort[:Npollutants])\n",
    "    data_temp=national_pollutants[['NAME10']+ pollutants_of_interest]\n",
    "    data_temp_nonzero=data_temp.replace(0,pd.np.nan).dropna(axis=0,how='any').reset_index().drop(['index'],axis=1)\n",
    "    Ncity=len(data_temp_nonzero)\n",
    "    return Ncity"
   ]
  },
  {
   "cell_type": "code",
   "execution_count": 80,
   "metadata": {},
   "outputs": [],
   "source": [
    "Npollutants_list=range(1,len(pollutants_sort)+1)\n",
    "Ncity_list=[getNcity(i) for i in Npollutants_list]"
   ]
  },
  {
   "cell_type": "code",
   "execution_count": 96,
   "metadata": {
    "scrolled": true
   },
   "outputs": [
    {
     "data": {
      "text/plain": [
       "Text(0,0.5,'Number of cities with all the pollutants included')"
      ]
     },
     "execution_count": 96,
     "metadata": {},
     "output_type": "execute_result"
    },
    {
     "data": {
      "image/png": "[encoded data removed]",
      "text/plain": [
       "<Figure size 432x288 with 1 Axes>"
      ]
     },
     "metadata": {},
     "output_type": "display_data"
    }
   ],
   "source": [
    "plt.style.use('seaborn-whitegrid')\n",
    "fig = plt.figure()\n",
    "ax = plt.axes()\n",
    "\n",
    "ax.plot(Npollutants_list,Ncity_list)\n",
    "\n",
    "plt.title('optimizing for national sample tolerance')\n",
    "plt.xlabel('number of pollutants included')\n",
    "plt.ylabel('Number of cities with all the pollutants included')"
   ]
  },
  {
   "cell_type": "code",
   "execution_count": 101,
   "metadata": {},
   "outputs": [
    {
     "data": {
      "text/html": [
       "<div>\n",
       "<style scoped>\n",
       "    .dataframe tbody tr th:only-of-type {\n",
       "        vertical-align: middle;\n",
       "    }\n",
       "\n",
       "    .dataframe tbody tr th {\n",
       "        vertical-align: top;\n",
       "    }\n",
       "\n",
       "    .dataframe thead th {\n",
       "        text-align: right;\n",
       "    }\n",
       "</style>\n",
       "<table border=\"1\" class=\"dataframe\">\n",
       "  <thead>\n",
       "    <tr style=\"text-align: right;\">\n",
       "      <th></th>\n",
       "      <th>Ncity</th>\n",
       "      <th>Npollutants</th>\n",
       "      <th>pollutants_added</th>\n",
       "    </tr>\n",
       "  </thead>\n",
       "  <tbody>\n",
       "    <tr>\n",
       "      <th>0</th>\n",
       "      <td>46</td>\n",
       "      <td>1</td>\n",
       "      <td>Phosphorous Total as P (mg/L)</td>\n",
       "    </tr>\n",
       "    <tr>\n",
       "      <th>1</th>\n",
       "      <td>41</td>\n",
       "      <td>2</td>\n",
       "      <td>Zinc Total (ug/L)</td>\n",
       "    </tr>\n",
       "    <tr>\n",
       "      <th>2</th>\n",
       "      <td>40</td>\n",
       "      <td>3</td>\n",
       "      <td>Lead Total After 1984 (ug/L)</td>\n",
       "    </tr>\n",
       "    <tr>\n",
       "      <th>3</th>\n",
       "      <td>37</td>\n",
       "      <td>4</td>\n",
       "      <td>TSS (mg/L)</td>\n",
       "    </tr>\n",
       "    <tr>\n",
       "      <th>4</th>\n",
       "      <td>36</td>\n",
       "      <td>5</td>\n",
       "      <td>Copper Total (ug/L)</td>\n",
       "    </tr>\n",
       "    <tr>\n",
       "      <th>5</th>\n",
       "      <td>33</td>\n",
       "      <td>6</td>\n",
       "      <td>Nitrogen Kjeldahl Total (mg/L)</td>\n",
       "    </tr>\n",
       "    <tr>\n",
       "      <th>6</th>\n",
       "      <td>31</td>\n",
       "      <td>7</td>\n",
       "      <td>BOD5 as O2 (mg/L)</td>\n",
       "    </tr>\n",
       "    <tr>\n",
       "      <th>7</th>\n",
       "      <td>28</td>\n",
       "      <td>8</td>\n",
       "      <td>TDS_mg/L</td>\n",
       "    </tr>\n",
       "    <tr>\n",
       "      <th>8</th>\n",
       "      <td>26</td>\n",
       "      <td>9</td>\n",
       "      <td>Cadmium Total (ug/L)</td>\n",
       "    </tr>\n",
       "    <tr>\n",
       "      <th>9</th>\n",
       "      <td>21</td>\n",
       "      <td>10</td>\n",
       "      <td>pH</td>\n",
       "    </tr>\n",
       "    <tr>\n",
       "      <th>10</th>\n",
       "      <td>20</td>\n",
       "      <td>11</td>\n",
       "      <td>N02+NO3 (mg/L as N)</td>\n",
       "    </tr>\n",
       "    <tr>\n",
       "      <th>11</th>\n",
       "      <td>18</td>\n",
       "      <td>12</td>\n",
       "      <td>Nickel Total (ug/L)</td>\n",
       "    </tr>\n",
       "    <tr>\n",
       "      <th>12</th>\n",
       "      <td>17</td>\n",
       "      <td>13</td>\n",
       "      <td>COD as O2 (mg/L)</td>\n",
       "    </tr>\n",
       "    <tr>\n",
       "      <th>13</th>\n",
       "      <td>17</td>\n",
       "      <td>14</td>\n",
       "      <td>Chromium Total (ug/L)</td>\n",
       "    </tr>\n",
       "    <tr>\n",
       "      <th>14</th>\n",
       "      <td>16</td>\n",
       "      <td>15</td>\n",
       "      <td>Fecal Coliform (colonies/100 mL)</td>\n",
       "    </tr>\n",
       "  </tbody>\n",
       "</table>\n",
       "</div>"
      ],
      "text/plain": [
       "    Ncity  Npollutants                  pollutants_added\n",
       "0      46            1     Phosphorous Total as P (mg/L)\n",
       "1      41            2                 Zinc Total (ug/L)\n",
       "2      40            3      Lead Total After 1984 (ug/L)\n",
       "3      37            4                        TSS (mg/L)\n",
       "4      36            5               Copper Total (ug/L)\n",
       "5      33            6    Nitrogen Kjeldahl Total (mg/L)\n",
       "6      31            7                 BOD5 as O2 (mg/L)\n",
       "7      28            8                          TDS_mg/L\n",
       "8      26            9              Cadmium Total (ug/L)\n",
       "9      21           10                                pH\n",
       "10     20           11               N02+NO3 (mg/L as N)\n",
       "11     18           12               Nickel Total (ug/L)\n",
       "12     17           13                  COD as O2 (mg/L)\n",
       "13     17           14             Chromium Total (ug/L)\n",
       "14     16           15  Fecal Coliform (colonies/100 mL)"
      ]
     },
     "execution_count": 101,
     "metadata": {},
     "output_type": "execute_result"
    }
   ],
   "source": [
    "## the above curve is relatevily smooth, indicating that decision should be made on which pollutants we are interested in\n",
    "pollutants_dict={'Ncity':Ncity_list,'pollutants_added':pollutants_sort,'Npollutants':Npollutants_list}\n",
    "pollutants_ncity=pd.DataFrame(pollutants_dict)\n",
    "pollutants_ncity"
   ]
  },
  {
   "cell_type": "code",
   "execution_count": 102,
   "metadata": {
    "collapsed": true
   },
   "outputs": [],
   "source": [
    "pollutants_ncity.to_csv(\"pollutants_ncity.csv\")"
   ]
  },
  {
   "cell_type": "code",
   "execution_count": null,
   "metadata": {
    "collapsed": true
   },
   "outputs": [],
   "source": []
  }
 ],
 "metadata": {
  "kernelspec": {
   "display_name": "Python 3",
   "language": "python",
   "name": "python3"
  },
  "language_info": {
   "codemirror_mode": {
    "name": "ipython",
    "version": 3
   },
   "file_extension": ".py",
   "mimetype": "text/x-python",
   "name": "python",
   "nbconvert_exporter": "python",
   "pygments_lexer": "ipython3",
   "version": "3.5.5"
  }
 },
 "nbformat": 4,
 "nbformat_minor": 2
}
